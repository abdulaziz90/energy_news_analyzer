{
 "cells": [
  {
   "cell_type": "markdown",
   "metadata": {},
   "source": [
    "# Notebook 1: Fetching Energy Market News\n",
    "\n",
    "This notebook demonstrates how to use the `news_fetcher` service to retrieve news articles related to the energy market using the NewsAPI.org service.\n",
    "\n",
    "**Objective:** Fetch relevant news articles based on search queries, date ranges, and other parameters."
   ]
  },
  {
   "cell_type": "markdown",
   "metadata": {},
   "source": [
    "## 1. Setup\n",
    "\n",
    "First, we need to import necessary libraries and load our environment variables. Make sure you have a `.env` file in the project root directory (`/home/ubuntu/energy_news_analyzer/`) containing your `NEWS_API_KEY`. You can get a free key from [NewsAPI.org](https://newsapi.org/).\n",
    "\n",
    "```.env\n",
    "NEWS_API_KEY=YOUR_NEWS_API_KEY_HERE\n",
    "```"
   ]
  },
  {
   "cell_type": "code",
   "execution_count": null,
   "metadata": {},
   "outputs": [],
   "source": [
    "import os\n",
    "import sys\n",
    "from dotenv import load_dotenv\n",
    "import json\n",
    "\n",
    "# Add the project root to the Python path to import modules from the 'api' directory\n",
    "project_root = os.path.abspath(os.path.join(os.getcwd(), '..'))\n",
    "if project_root not in sys.path:\n",
    "    sys.path.append(project_root)\n",
    "\n",
    "# Load environment variables from .env file in the project root\n",
    "dotenv_path = os.path.join(project_root, '.env')\n",
    "load_dotenv(dotenv_path=dotenv_path)\n",
    "\n",
    "# Import the news fetching function\n",
    "# Need to reload the config potentially if NEWS_API_KEY was updated in .env\n",
    "from api.utils import config\n",
    "import importlib\n",
    "importlib.reload(config) # Reload config to pick up .env changes\n",
    "from api.services import news_fetcher\n",
    "importlib.reload(news_fetcher) # Reload service in case config was updated there too\n",
    "\n",
    "# Check if API key is loaded\n",
    "NEWS_API_KEY = os.getenv('NEWS_API_KEY')\n",
    "if not NEWS_API_KEY or NEWS_API_KEY == 'YOUR_NEWS_API_KEY_HERE':\n",
    "    print("WARNING: NEWS_API_KEY not found or not set in .env file.")\n",
    "    print("Please get a key from https://newsapi.org/ and add it to '/home/ubuntu/energy_news_analyzer/.env'")\n",
    "    api_key_available = False\n",
    "else:\n",
    "    print("NewsAPI key loaded successfully.")\n",
    "    api_key_available = True"
   ]
  },
  {
   "cell_type": "markdown",
   "metadata": {},
   "source": [
    "## 2. Fetching News Articles\n",
    "\n",
    "Now, let's use the `fetch_news` function to get some articles. We'll search for news related to 'renewable energy investment'."
   ]
  },
  {
   "cell_type": "code",
   "execution_count": null,
   "metadata": {},
   "outputs": [],
   "source": [
    "search_query = \"renewable energy investment OR solar power OR wind energy\"\n",
    "\n",
    "if api_key_available:\n",
    "    print(f\"Fetching news for query: '{search_query}'...\")\n",
    "    # Fetch the latest 5 articles published
    "    articles = news_fetcher.fetch_news(\n",
    "        query=search_query, \n",
    "        page_size=5, \n",
    "        sort_by='publishedAt' # Other options: 'relevancy', 'popularity'
    "    )\n",
    "    \n",
    "    if articles:\n",
    "        print(f\"Successfully fetched {len(articles)} articles.\")\n",
    "        # Print titles and URLs for verification
    "        for i, article in enumerate(articles):\n",
    "            print(f\"  {i+1}. {article.get('title')} ({article.get('publishedAt')})\")\n",
    "            print(f\"     Source: {article.get('source', {}).get('name')}\")
    "            print(f\"     URL: {article.get('url')}\")
    "            # Save fetched articles to a temporary file for use in other notebooks
    "            # Create data directory if it doesn't exist
    "            data_dir = 'data'\n",
    "            if not os.path.exists(data_dir):\n",
    "                os.makedirs(data_dir)\n",
    "            with open(os.path.join(data_dir, 'fetched_articles.json'), 'w') as f:\n",
    "                json.dump(articles, f, indent=2)\n",
    "            print(\"\nSaved fetched articles to notebooks/data/fetched_articles.json\")\n",
    "    else:\n",
    "        print(\"Failed to fetch articles. Check your API key and NewsAPI service status.\")\n",
    "else:\n",
    "    print(\"Skipping news fetching demonstration as API key is not available.\")"
   ]
  },
  {
   "cell_type": "markdown",
   "metadata": {},
   "source": [
    "## 3. Exploring Parameters\n",
    "\n",
    "The `fetch_news` function accepts several parameters to refine the search:",
    "\n",
    "- `query`: The search keywords or phrases.",
    "- `from_date`: Start date (YYYY-MM-DD).",
    "- `to_date`: End date (YYYY-MM-DD).",
    "- `language`: Language code (e.g., 'en', 'de').",
    "- `sort_by`: How to sort results ('publishedAt', 'relevancy', 'popularity').",
    "- `page_size`: Number of articles to return (max 100 for free tier).",
    "\n",
    "Let's try fetching articles from a specific date range."
   ]
  },
  {
   "cell_type": "code",
   "execution_count": null,
   "metadata": {},
   "outputs": [],
   "source": [
    "from datetime import date, timedelta
    
    "# Get dates for the last week
    "today = date.today()
    "one_week_ago = today - timedelta(days=7)
    
    "if api_key_available:
    "    print(f\"Fetching news for query: '{search_query}' from {one_week_ago} to {today}...\")
    "    articles_last_week = news_fetcher.fetch_news(
    "        query=search_query, 
    "        from_date=one_week_ago.strftime('%Y-%m-%d'), 
    "        to_date=today.strftime('%Y-%m-%d'),
    "        page_size=3,
    "        sort_by='relevancy'
    "    )
    "    
    "    if articles_last_week:
    "        print(f\"Successfully fetched {len(articles_last_week)} articles from the last week.\")
    "        for i, article in enumerate(articles_last_week):
    "            print(f\"  {i+1}. {article.get('title')} ({article.get('publishedAt')})\")
    "    else:
    "        print(\"Failed to fetch articles from the last week.\")
    "else:
    "    print(\"Skipping date range demonstration as API key is not available.\")"
   ]
  },
    {
   "cell_type": "markdown",
   "metadata": {},
   "source": [
    "## 4. Conclusion\n",
    "\n",
    "This notebook showed how to use the `news_fetcher.py` service to retrieve news articles using NewsAPI.org. The fetched articles (if successful) have been saved to `notebooks/data/fetched_articles.json` and can be used in the subsequent notebooks for analysis."
   ]
  }
 ],
 "metadata": {
  "kernelspec": {
   "display_name": "Python 3",
   "language": "python",
   "name": "python3"
  },
  "language_info": {
   "codemirror_mode": {
    "name": "ipython",
    "version": 3
   },
   "file_extension": ".py",
   "mimetype": "text/x-python",
   "name": "python",
   "nbconvert_exporter": "python",
   "pygments_lexer": "ipython3",
   "version": "3.10.12"
  }
 },
 "nbformat": 4,
 "nbformat_minor": 2
}

