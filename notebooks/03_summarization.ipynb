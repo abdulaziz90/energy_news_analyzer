{
 "cells": [
  {
   "cell_type": "markdown",
   "metadata": {},
   "source": [
    "# Notebook 3: Summarizing Energy News Articles\n",
    "\n",
    "This notebook demonstrates how to use the `analysis` service to summarize the news articles fetched earlier.\n",
    "\n",
    "**Objective:** Generate concise summaries of energy market news articles using a pre-trained Hugging Face model (e.g., BART)."
   ]
  },
  {
   "cell_type": "markdown",
   "metadata": {},
   "source": [
    "## 1. Setup\n",
    "\n",
    "Import necessary libraries, add the project root to the path, and load the analysis service. This will load the summarization model specified in `analysis.py` (e.g., `facebook/bart-large-cnn`). This might take time on the first run."
   ]
  },
  {
   "cell_type": "code",
   "execution_count": null,
   "metadata": {},
   "outputs": [],
   "source": [
    "import os\n",
    "import sys\n",
    "import json\n",
    "import logging\n",
    "\n",
    "# Setup logging\n",
    "logging.basicConfig(level=logging.INFO)\n",
    "logger = logging.getLogger(__name__)\n",
    "\n",
    "# Add the project root to the Python path\n",
    "project_root = os.path.abspath(os.path.join(os.getcwd(), '..'))\n",
    "if project_root not in sys.path:\n",
    "    sys.path.append(project_root)\n",
    "\n",
    "# Import the analysis service\n",
    "try:\n",
    "    from api.services import analysis\n",
    "    import importlib\n",
    "    importlib.reload(analysis) # Ensure latest code and models are loaded\n",
    "    models_loaded = analysis.summarizer_pipeline is not None\n",
    "    if models_loaded:\n",
    "        logger.info(\"Summarization model loaded successfully.\")\n",
    "    else:\n",
    "        logger.warning(\"Summarization model failed to load. Check logs in analysis.py.\")\n",
    "except Exception as e:\n",
    "    logger.error(f\"Failed to import or load analysis service: {e}\", exc_info=True)\n",
    "    models_loaded = False"
   ]
  },
  {
   "cell_type": "markdown",
   "metadata": {},
   "source": [
    "## 2. Load Fetched Articles\n",
    "\n",
    "Load the articles saved by `01_news_fetching.ipynb`."
   ]
  },
  {
   "cell_type": "code",
   "execution_count": null,
   "metadata": {},
   "outputs": [],
   "source": [
    "articles = []\n",
    "articles_file = os.path.join("data", "fetched_articles.json")\n",
    "\n",
    "if os.path.exists(articles_file):\n",
    "    try:\n",
    "        with open(articles_file, 'r') as f:\n",
    "            articles = json.load(f)\n",
    "        print(f"Loaded {len(articles)} articles from {articles_file}")\n",
    "    except Exception as e:\n",
    "        print(f"Error loading articles from {articles_file}: {e}")\n",
    "else:\n",
    "    print(f"Error: {articles_file} not found. Please run Notebook 1 first.")"
   ]
  },
  {
   "cell_type": "markdown",
   "metadata": {},
   "source": [
    "## 3. Perform Summarization\n",
    "\n",
    "Iterate through the articles and apply the `summarize_text` function."
   ]
  },
  {
   "cell_type": "code",
   "execution_count": null,
   "metadata": {},
   "outputs": [],
   "source": [
    "if models_loaded and articles:\n",
    "    print("Performing summarization...")\n",
    "    results = []\n",
    "    for i, article in enumerate(articles):\n",
    "        title = article.get('title', 'No Title')\n",
    "        content = article.get('content') or article.get('description')\n",
    "        print(f"\nSummarizing article {i+1}: {title}")\n",
    "        \n",
    "        if content:\n",
    "            summary = analysis.summarize_text(content) # Use default length ratios\n",
    "            if summary:\n",
    "                print(f"  Summary: {summary}")\n",
    "                results.append({
    "                    'title': title,
    "                    'url': article.get('url'),
    "                    'original_length': len(content.split()), # Approx word count
    "                    'summary_length': len(summary.split()),
    "                    'summary': summary
    "                })
    "            else:\n",
    "                print("  Summarization failed for this article.")\n",
    "                results.append({
    "                    'title': title,
    "                    'url': article.get('url'),
    "                    'error': 'Summarization failed'
    "                })
    "        else:\n",
    "            print("  Skipping summarization: No content or description found.")\n",
    "            results.append({
    "                'title': title,
    "                'url': article.get('url'),
    "                'error': 'No content available'
    "            })
    "            
    "    # Save results
    "    results_file = os.path.join("data", "summary_results.json")
    "    with open(results_file, 'w') as f:
    "        json.dump(results, f, indent=2)
    "    print(f"\nSaved summarization results to {results_file}")
    "            
    "elif not models_loaded:
    "    print("Skipping summarization as the model failed to load.")
    "elif not articles:
    "    print("Skipping summarization as no articles were loaded.")"
   ]
  },
  {
   "cell_type": "markdown",
   "metadata": {},
   "source": [
    "## 4. Conclusion\n",
    "\n",
    "This notebook demonstrated how to generate summaries for the fetched news articles using the `analysis.py` service. The summaries have been saved to `notebooks/data/summary_results.json`."
   ]
  }
 ],
 "metadata": {
  "kernelspec": {
   "display_name": "Python 3",
   "language": "python",
   "name": "python3"
  },
  "language_info": {
   "codemirror_mode": {
    "name": "ipython",
    "version": 3
   },
   "file_extension": ".py",
   "mimetype": "text/x-python",
   "name": "python",
   "nbconvert_exporter": "python",
   "pygments_lexer": "ipython3",
   "version": "3.10.12"
  }
 },
 "nbformat": 4,
 "nbformat_minor": 2
}

