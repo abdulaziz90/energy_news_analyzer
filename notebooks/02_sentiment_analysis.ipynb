{
 "cells": [
  {
   "cell_type": "markdown",
   "metadata": {},
   "source": [
    "# Notebook 2: Sentiment Analysis of Energy News\n",
    "\n",
    "This notebook demonstrates how to use the `analysis` service to perform sentiment analysis on the news articles fetched in the previous notebook.\n",
    "\n",
    "**Objective:** Analyze the sentiment (positive, negative, neutral) of energy market news articles using a pre-trained Hugging Face model."
   ]
  },
  {
   "cell_type": "markdown",
   "metadata": {},
   "source": [
    "## 1. Setup\n",
    "\n",
    "Import necessary libraries, add the project root to the path, and load the analysis service. This notebook assumes the models specified in `analysis.py` (like `distilbert-base-uncased-finetuned-sst-2-english`) can be downloaded and loaded. This might take some time the first time you run it."
   ]
  },
  {
   "cell_type": "code",
   "execution_count": null,
   "metadata": {},
   "outputs": [],
   "source": [
    "import os\n",
    "import sys\n",
    "import json\n",
    "import logging\n",
    "\n",
    "# Setup logging\n",
    "logging.basicConfig(level=logging.INFO)\n",
    "logger = logging.getLogger(__name__)\n",
    "\n",
    "# Add the project root to the Python path\n",
    "project_root = os.path.abspath(os.path.join(os.getcwd(), '..'))\n",
    "if project_root not in sys.path:\n",
    "    sys.path.append(project_root)\n",
    "\n",
    "# Import the analysis service\n",
    "# This will trigger the model loading process defined in analysis.py
    "try:\n",
    "    from api.services import analysis\n",
    "    import importlib\n",
    "    importlib.reload(analysis) # Ensure latest code and models are loaded
    "    models_loaded = analysis.sentiment_pipeline is not None\n",
    "    if models_loaded:\n",
    "        logger.info(\"Sentiment analysis model loaded successfully.\")\n",
    "    else:\n",
    "        logger.warning(\"Sentiment analysis model failed to load. Check logs in analysis.py.\")\n",
    "except Exception as e:\n",
    "    logger.error(f\"Failed to import or load analysis service: {e}\", exc_info=True)\n",
    "    models_loaded = False"
   ]
  },
  {
   "cell_type": "markdown",
   "metadata": {},
   "source": [
    "## 2. Load Fetched Articles\n",
    "\n",
    "Load the articles saved by the previous notebook (`01_news_fetching.ipynb`)."
   ]
  },
  {
   "cell_type": "code",
   "execution_count": null,
   "metadata": {},
   "outputs": [],
   "source": [
    "articles = []\n",
    "articles_file = os.path.join("data", "fetched_articles.json")\n",
    "\n",
    "if os.path.exists(articles_file):\n",
    "    try:\n",
    "        with open(articles_file, 'r') as f:\n",
    "            articles = json.load(f)\n",
    "        print(f"Loaded {len(articles)} articles from {articles_file}")\n",
    "    except Exception as e:\n",
    "        print(f"Error loading articles from {articles_file}: {e}")\n",
    "else:\n",
    "    print(f"Error: {articles_file} not found. Please run Notebook 1 first.")"
   ]
  },
  {
   "cell_type": "markdown",
   "metadata": {},
   "source": [
    "## 3. Perform Sentiment Analysis\n",
    "\n",
    "Iterate through the loaded articles and apply the `analyze_sentiment` function to their content (or description if content is missing)."
   ]
  },
  {
   "cell_type": "code",
   "execution_count": null,
   "metadata": {},
   "outputs": [],
   "source": [
    "if models_loaded and articles:\n",
    "    print("Performing sentiment analysis...")\n",
    "    results = []\n",
    "    for i, article in enumerate(articles):\n",
    "        title = article.get('title', 'No Title')\n",
    "        content = article.get('content') or article.get('description')\n",
    "        print(f"\nAnalyzing article {i+1}: {title}")\n",
    "        \n",
    "        if content:\n",
    "            sentiment_result = analysis.analyze_sentiment(content)\n",
    "            if sentiment_result:\n",
    "                print(f"  Sentiment: {sentiment_result['label']} (Score: {sentiment_result['score']:.4f})")\n",
    "                results.append({
    "                    'title': title,
    "                    'url': article.get('url'),
    "                    'sentiment_label': sentiment_result['label'],
    "                    'sentiment_score': sentiment_result['score']
    "                })
    "            else:\n",
    "                print("  Sentiment analysis failed for this article.")\n",
    "                results.append({
    "                    'title': title,
    "                    'url': article.get('url'),
    "                    'error': 'Sentiment analysis failed'
    "                })
    "        else:\n",
    "            print("  Skipping analysis: No content or description found.")\n",
    "            results.append({
    "                'title': title,
    "                'url': article.get('url'),
    "                'error': 'No content available'
    "            })
    "            
    "    # Save results
    "    results_file = os.path.join("data", "sentiment_results.json")
    "    with open(results_file, 'w') as f:
    "        json.dump(results, f, indent=2)
    "    print(f"\nSaved sentiment analysis results to {results_file}")
    "            
    "elif not models_loaded:
    "    print("Skipping sentiment analysis as the model failed to load.")
    "elif not articles:
    "    print("Skipping sentiment analysis as no articles were loaded.")"
   ]
  },
  {
   "cell_type": "markdown",
   "metadata": {},
   "source": [
    "## 4. Conclusion\n",
    "\n",
    "This notebook demonstrated the sentiment analysis capability using the pre-loaded Hugging Face model via the `analysis.py` service. The results, including the sentiment label (e.g., POSITIVE, NEGATIVE) and confidence score for each article, have been saved to `notebooks/data/sentiment_results.json`."
   ]
  }
 ],
 "metadata": {
  "kernelspec": {
   "display_name": "Python 3",
   "language": "python",
   "name": "python3"
  },
  "language_info": {
   "codemirror_mode": {
    "name": "ipython",
    "version": 3
   },
   "file_extension": ".py",
   "mimetype": "text/x-python",
   "name": "python",
   "nbconvert_exporter": "python",
   "pygments_lexer": "ipython3",
   "version": "3.10.12"
  }
 },
 "nbformat": 4,
 "nbformat_minor": 2
}

